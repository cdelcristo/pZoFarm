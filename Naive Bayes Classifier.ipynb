{
 "cells": [
  {
   "cell_type": "code",
   "execution_count": 12,
   "metadata": {},
   "outputs": [
    {
     "data": {
      "text/plain": [
       "0    Not Plugged\n",
       "1    Not Plugged\n",
       "2    Not Plugged\n",
       "3    Not Plugged\n",
       "4    Not Plugged\n",
       "Name: Label, dtype: object"
      ]
     },
     "execution_count": 12,
     "metadata": {},
     "output_type": "execute_result"
    }
   ],
   "source": [
    "# #### Libraries\n",
    "\n",
    "import pandas as pd\n",
    "import numpy as np\n",
    "import matplotlib.pyplot as plt\n",
    "\n",
    "from sklearn.naive_bayes import GaussianNB\n",
    "\n",
    "# Read burner data from csv\n",
    "data = pd.read_csv('data/burnerData.csv')\n",
    "data['Label'].head()"
   ]
  },
  {
   "cell_type": "code",
   "execution_count": 9,
   "metadata": {},
   "outputs": [
    {
     "data": {
      "text/html": [
       "<div>\n",
       "<style scoped>\n",
       "    .dataframe tbody tr th:only-of-type {\n",
       "        vertical-align: middle;\n",
       "    }\n",
       "\n",
       "    .dataframe tbody tr th {\n",
       "        vertical-align: top;\n",
       "    }\n",
       "\n",
       "    .dataframe thead th {\n",
       "        text-align: right;\n",
       "    }\n",
       "</style>\n",
       "<table border=\"1\" class=\"dataframe\">\n",
       "  <thead>\n",
       "    <tr style=\"text-align: right;\">\n",
       "      <th></th>\n",
       "      <th>B2E-NG-F-CV</th>\n",
       "      <th>B2E-NG-F-PV</th>\n",
       "      <th>B2E-NG-F-SP</th>\n",
       "      <th>B2E-NG-pr</th>\n",
       "    </tr>\n",
       "  </thead>\n",
       "  <tbody>\n",
       "    <tr>\n",
       "      <th>0</th>\n",
       "      <td>80</td>\n",
       "      <td>400</td>\n",
       "      <td>400</td>\n",
       "      <td>240</td>\n",
       "    </tr>\n",
       "  </tbody>\n",
       "</table>\n",
       "</div>"
      ],
      "text/plain": [
       "   B2E-NG-F-CV  B2E-NG-F-PV  B2E-NG-F-SP  B2E-NG-pr\n",
       "0           80          400          400        240"
      ]
     },
     "execution_count": 9,
     "metadata": {},
     "output_type": "execute_result"
    }
   ],
   "source": [
    "predictiveFeatures = ['B2E-NG-F-CV' , 'B2E-NG-F-PV' , 'B2E-NG-F-SP' , 'B2E-NG-pr']\n",
    "\n",
    "testData = pd.DataFrame()\n",
    "\n",
    "testData[predictiveFeatures[0]] = [80]\n",
    "testData[predictiveFeatures[1]] = [400]\n",
    "testData[predictiveFeatures[2]] = [400]\n",
    "testData[predictiveFeatures[3]] = [240]\n",
    "\n",
    "testData.head()"
   ]
  },
  {
   "cell_type": "code",
   "execution_count": 14,
   "metadata": {},
   "outputs": [
    {
     "name": "stdout",
     "output_type": "stream",
     "text": [
      "['Not Plugged']\n"
     ]
    }
   ],
   "source": [
    "\n",
    "import pandas as pd\n",
    "import numpy as np\n",
    "import matplotlib.pyplot as plt\n",
    "\n",
    "from sklearn.naive_bayes import GaussianNB\n",
    "\n",
    "# Read burner data from csv\n",
    "data = pd.read_csv('data/burnerData.csv')\n",
    "data.head()\n",
    "\n",
    "\n",
    "# Initiate Naive Bayes Classifier\n",
    "\n",
    "burnerModel = GaussianNB()\n",
    "\n",
    "# declaring fetures to be use in the model\n",
    "\n",
    "predictiveFeatures = ['B2E-NG-F-CV' , 'B2E-NG-F-PV' , 'B2E-NG-F-SP' , 'B2E-NG-Pr']\n",
    "\n",
    "# Train model with Burner Dataset\n",
    "\n",
    "burnerModel.fit( data[predictiveFeatures].values , data['Label'])\n",
    "\n",
    "# create test dataFrame\n",
    "\n",
    "testData = pd.DataFrame()\n",
    "\n",
    "testData[predictiveFeatures[0]] = [80]\n",
    "testData[predictiveFeatures[1]] = [400]\n",
    "testData[predictiveFeatures[2]] = [400]\n",
    "testData[predictiveFeatures[3]] = [240]\n",
    "\n",
    "prediction = burnerModel.predict(testData[predictiveFeatures])\n",
    "print(prediction)"
   ]
  },
  {
   "cell_type": "code",
   "execution_count": null,
   "metadata": {},
   "outputs": [],
   "source": []
  }
 ],
 "metadata": {
  "kernelspec": {
   "display_name": "Python 2",
   "language": "python",
   "name": "python2"
  },
  "language_info": {
   "codemirror_mode": {
    "name": "ipython",
    "version": 2
   },
   "file_extension": ".py",
   "mimetype": "text/x-python",
   "name": "python",
   "nbconvert_exporter": "python",
   "pygments_lexer": "ipython2",
   "version": "2.7.15"
  }
 },
 "nbformat": 4,
 "nbformat_minor": 2
}
